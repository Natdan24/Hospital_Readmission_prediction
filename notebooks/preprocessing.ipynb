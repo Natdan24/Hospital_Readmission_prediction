{
 "cells": [
  {
   "cell_type": "code",
   "execution_count": 1,
   "metadata": {},
   "outputs": [],
   "source": [
    "# Import necessary libraries\n",
    "import pandas as pd\n",
    "import numpy as np\n",
    "from sklearn.preprocessing import StandardScaler, LabelEncoder\n",
    "from sklearn.model_selection import train_test_split\n"
   ]
  },
  {
   "cell_type": "markdown",
   "metadata": {},
   "source": [
    "Note: I am dropping medication as it is using too much memory and has too many unique drug names. So it is not feasible for merging"
   ]
  },
  {
   "cell_type": "code",
   "execution_count": 2,
   "metadata": {},
   "outputs": [
    {
     "name": "stderr",
     "output_type": "stream",
     "text": [
      "C:\\Users\\Natasha\\AppData\\Local\\Temp\\ipykernel_252\\2040081847.py:6: DtypeWarning: Columns (11) have mixed types. Specify dtype option on import or set low_memory=False.\n",
      "  medication = pd.read_csv(\"C:/Users/Natasha/Desktop/Data_Exploration_2/medication.csv\")\n"
     ]
    }
   ],
   "source": [
    "# Load datasets\n",
    "admissionDX = pd.read_csv(\"admissionDx.csv\")\n",
    "patient = pd.read_csv(\"patient.csv\")\n",
    "lab = pd.read_csv(\"lab.csv\")\n",
    "diagnosis = pd.read_csv(\"diagnosis.csv\")\n",
    "#medication = pd.read_csv(\"C:/Users/Natasha/Desktop/Data_Exploration_2/medication.csv\")\n",
    "treatment = pd.read_csv(\"treatment.csv\")\n"
   ]
  },
  {
   "cell_type": "code",
   "execution_count": 3,
   "metadata": {},
   "outputs": [
    {
     "name": "stdout",
     "output_type": "stream",
     "text": [
      "<class 'pandas.core.frame.DataFrame'>\n",
      "RangeIndex: 7578 entries, 0 to 7577\n",
      "Data columns (total 6 columns):\n",
      " #   Column                Non-Null Count  Dtype \n",
      "---  ------                --------------  ----- \n",
      " 0   admissiondxid         7578 non-null   int64 \n",
      " 1   patientunitstayid     7578 non-null   int64 \n",
      " 2   admitdxenteredoffset  7578 non-null   int64 \n",
      " 3   admitdxpath           7578 non-null   object\n",
      " 4   admitdxname           7578 non-null   object\n",
      " 5   admitdxtext           7578 non-null   object\n",
      "dtypes: int64(3), object(3)\n",
      "memory usage: 355.3+ KB\n",
      "None\n",
      "<class 'pandas.core.frame.DataFrame'>\n",
      "RangeIndex: 2520 entries, 0 to 2519\n",
      "Data columns (total 29 columns):\n",
      " #   Column                     Non-Null Count  Dtype  \n",
      "---  ------                     --------------  -----  \n",
      " 0   patientunitstayid          2520 non-null   int64  \n",
      " 1   patienthealthsystemstayid  2520 non-null   int64  \n",
      " 2   gender                     2516 non-null   object \n",
      " 3   age                        2516 non-null   object \n",
      " 4   ethnicity                  2481 non-null   object \n",
      " 5   hospitalid                 2520 non-null   int64  \n",
      " 6   wardid                     2520 non-null   int64  \n",
      " 7   apacheadmissiondx          2221 non-null   object \n",
      " 8   admissionheight            2451 non-null   float64\n",
      " 9   hospitaladmittime24        2520 non-null   object \n",
      " 10  hospitaladmitoffset        2520 non-null   int64  \n",
      " 11  hospitaladmitsource        1926 non-null   object \n",
      " 12  hospitaldischargeyear      2520 non-null   int64  \n",
      " 13  hospitaldischargetime24    2520 non-null   object \n",
      " 14  hospitaldischargeoffset    2520 non-null   int64  \n",
      " 15  hospitaldischargelocation  2488 non-null   object \n",
      " 16  hospitaldischargestatus    2492 non-null   object \n",
      " 17  unittype                   2520 non-null   object \n",
      " 18  unitadmittime24            2520 non-null   object \n",
      " 19  unitadmitsource            2498 non-null   object \n",
      " 20  unitvisitnumber            2520 non-null   int64  \n",
      " 21  unitstaytype               2520 non-null   object \n",
      " 22  admissionweight            2322 non-null   float64\n",
      " 23  dischargeweight            1236 non-null   float64\n",
      " 24  unitdischargetime24        2520 non-null   object \n",
      " 25  unitdischargeoffset        2520 non-null   int64  \n",
      " 26  unitdischargelocation      2516 non-null   object \n",
      " 27  unitdischargestatus        2518 non-null   object \n",
      " 28  uniquepid                  2520 non-null   object \n",
      "dtypes: float64(3), int64(9), object(17)\n",
      "memory usage: 571.1+ KB\n",
      "None\n",
      "<class 'pandas.core.frame.DataFrame'>\n",
      "RangeIndex: 434660 entries, 0 to 434659\n",
      "Data columns (total 10 columns):\n",
      " #   Column                   Non-Null Count   Dtype  \n",
      "---  ------                   --------------   -----  \n",
      " 0   labid                    434660 non-null  int64  \n",
      " 1   patientunitstayid        434660 non-null  int64  \n",
      " 2   labresultoffset          434660 non-null  int64  \n",
      " 3   labtypeid                434660 non-null  int64  \n",
      " 4   labname                  434660 non-null  object \n",
      " 5   labresult                431939 non-null  float64\n",
      " 6   labresulttext            434639 non-null  object \n",
      " 7   labmeasurenamesystem     415754 non-null  object \n",
      " 8   labmeasurenameinterface  415763 non-null  object \n",
      " 9   labresultrevisedoffset   434660 non-null  int64  \n",
      "dtypes: float64(1), int64(5), object(4)\n",
      "memory usage: 33.2+ MB\n",
      "None\n",
      "<class 'pandas.core.frame.DataFrame'>\n",
      "RangeIndex: 24978 entries, 0 to 24977\n",
      "Data columns (total 7 columns):\n",
      " #   Column               Non-Null Count  Dtype \n",
      "---  ------               --------------  ----- \n",
      " 0   diagnosisid          24978 non-null  int64 \n",
      " 1   patientunitstayid    24978 non-null  int64 \n",
      " 2   activeupondischarge  24978 non-null  bool  \n",
      " 3   diagnosisoffset      24978 non-null  int64 \n",
      " 4   diagnosisstring      24978 non-null  object\n",
      " 5   icd9code             21206 non-null  object\n",
      " 6   diagnosispriority    24978 non-null  object\n",
      "dtypes: bool(1), int64(3), object(3)\n",
      "memory usage: 1.2+ MB\n",
      "None\n",
      "<class 'pandas.core.frame.DataFrame'>\n",
      "RangeIndex: 75604 entries, 0 to 75603\n",
      "Data columns (total 15 columns):\n",
      " #   Column              Non-Null Count  Dtype  \n",
      "---  ------              --------------  -----  \n",
      " 0   medicationid        75604 non-null  int64  \n",
      " 1   patientunitstayid   75604 non-null  int64  \n",
      " 2   drugorderoffset     75604 non-null  int64  \n",
      " 3   drugstartoffset     75604 non-null  int64  \n",
      " 4   drugivadmixture     75604 non-null  object \n",
      " 5   drugordercancelled  75604 non-null  object \n",
      " 6   drugname            44943 non-null  object \n",
      " 7   drughiclseqno       71163 non-null  float64\n",
      " 8   dosage              66299 non-null  object \n",
      " 9   routeadmin          75554 non-null  object \n",
      " 10  frequency           63824 non-null  object \n",
      " 11  loadingdose         8 non-null      object \n",
      " 12  prn                 75596 non-null  object \n",
      " 13  drugstopoffset      75604 non-null  int64  \n",
      " 14  gtc                 75604 non-null  int64  \n",
      "dtypes: float64(1), int64(6), object(8)\n",
      "memory usage: 8.7+ MB\n",
      "None\n",
      "<class 'pandas.core.frame.DataFrame'>\n",
      "RangeIndex: 38290 entries, 0 to 38289\n",
      "Data columns (total 5 columns):\n",
      " #   Column               Non-Null Count  Dtype \n",
      "---  ------               --------------  ----- \n",
      " 0   treatmentid          38290 non-null  int64 \n",
      " 1   patientunitstayid    38290 non-null  int64 \n",
      " 2   treatmentoffset      38290 non-null  int64 \n",
      " 3   treatmentstring      38290 non-null  object\n",
      " 4   activeupondischarge  38290 non-null  bool  \n",
      "dtypes: bool(1), int64(3), object(1)\n",
      "memory usage: 1.2+ MB\n",
      "None\n"
     ]
    }
   ],
   "source": [
    "# Check the structure and size of each dataset\n",
    "print(admissionDX.info())\n",
    "print(patient.info())\n",
    "print(lab.info())\n",
    "print(diagnosis.info())\n",
    "#print(medication.info())\n",
    "print(treatment.info())\n"
   ]
  },
  {
   "cell_type": "code",
   "execution_count": 4,
   "metadata": {},
   "outputs": [
    {
     "name": "stdout",
     "output_type": "stream",
     "text": [
      "admissionDX columns: Index(['patientunitstayid', 'admitdxname', 'admitdxtext'], dtype='object')\n",
      "patient columns: Index(['patientunitstayid', 'age', 'gender', 'ethnicity',\n",
      "       'hospitaladmitsource', 'hospitaldischargelocation',\n",
      "       'hospitaldischargestatus'],\n",
      "      dtype='object')\n",
      "lab columns: Index(['patientunitstayid', 'labname', 'labresult'], dtype='object')\n",
      "diagnosis columns: Index(['patientunitstayid', 'diagnosisstring', 'icd9code'], dtype='object')\n",
      "medication columns: Index(['patientunitstayid', 'drugname', 'dosage', 'routeadmin',\n",
      "       'drugstartoffset', 'drugstopoffset'],\n",
      "      dtype='object')\n",
      "treatment columns: Index(['patientunitstayid', 'treatmentstring'], dtype='object')\n"
     ]
    }
   ],
   "source": [
    "# Keep only relevant columns for each dataset\n",
    "\n",
    "# admissionDX\n",
    "admissionDX = admissionDX[['patientunitstayid', 'admitdxname', 'admitdxtext']]\n",
    "\n",
    "# patient\n",
    "patient = patient[['patientunitstayid', 'age', 'gender', 'ethnicity', \n",
    "                   'hospitaladmitsource', 'hospitaldischargelocation', \n",
    "                   'hospitaldischargestatus']]\n",
    "\n",
    "# lab\n",
    "lab = lab[['patientunitstayid', 'labname', 'labresult']]\n",
    "\n",
    "# diagnosis\n",
    "diagnosis = diagnosis[['patientunitstayid', 'diagnosisstring', 'icd9code']]\n",
    "\n",
    "# medication\n",
    "#medication = medication[['patientunitstayid', 'drugname', 'dosage', \n",
    "#                         'routeadmin', 'drugstartoffset', 'drugstopoffset']]\n",
    "\n",
    "# treatment\n",
    "treatment = treatment[['patientunitstayid', 'treatmentstring']]\n",
    "\n",
    "# Display the first few rows of each dataset to confirm changes\n",
    "print(\"admissionDX columns:\", admissionDX.columns)\n",
    "print(\"patient columns:\", patient.columns)\n",
    "print(\"lab columns:\", lab.columns)\n",
    "print(\"diagnosis columns:\", diagnosis.columns)\n",
    "print(\"medication columns:\", medication.columns)\n",
    "print(\"treatment columns:\", treatment.columns)\n"
   ]
  },
  {
   "cell_type": "code",
   "execution_count": 5,
   "metadata": {},
   "outputs": [],
   "source": [
    "#drop duplicates\n",
    "admissionDX.drop_duplicates(inplace=True)\n",
    "lab.drop_duplicates(inplace=True)\n",
    "diagnosis.drop_duplicates(inplace=True)\n",
    "#medication.drop_duplicates(inplace=True)\n",
    "treatment.drop_duplicates(inplace=True)\n"
   ]
  },
  {
   "cell_type": "code",
   "execution_count": 6,
   "metadata": {},
   "outputs": [],
   "source": [
    "# Filter patient IDs for a subset\n",
    "subset_patient_ids = patient['patientunitstayid'].sample(n=1000, random_state=42)\n",
    "\n",
    "# Filter each dataset by these IDs\n",
    "admissionDX = admissionDX[admissionDX['patientunitstayid'].isin(subset_patient_ids)]\n",
    "lab = lab[lab['patientunitstayid'].isin(subset_patient_ids)]\n",
    "diagnosis = diagnosis[diagnosis['patientunitstayid'].isin(subset_patient_ids)]\n",
    "#medication = medication[medication['patientunitstayid'].isin(subset_patient_ids)]\n",
    "treatment = treatment[treatment['patientunitstayid'].isin(subset_patient_ids)]\n"
   ]
  },
  {
   "cell_type": "code",
   "execution_count": null,
   "metadata": {},
   "outputs": [],
   "source": [
    "# Check the structure and size of each dataset\n",
    "print(admissionDX.info())\n",
    "print(patient.info())\n",
    "print(lab.info())\n",
    "print(diagnosis.info())\n",
    "#print(medication.info())\n",
    "print(treatment.info())"
   ]
  },
  {
   "cell_type": "code",
   "execution_count": 7,
   "metadata": {},
   "outputs": [
    {
     "name": "stdout",
     "output_type": "stream",
     "text": [
      "AdmissionDX dtypes:\n",
      " patientunitstayid     int32\n",
      "admitdxname          object\n",
      "admitdxtext          object\n",
      "dtype: object\n",
      "Patient dtypes:\n",
      " patientunitstayid               int32\n",
      "age                           float32\n",
      "gender                       category\n",
      "ethnicity                    category\n",
      "hospitaladmitsource          category\n",
      "hospitaldischargelocation    category\n",
      "hospitaldischargestatus      category\n",
      "dtype: object\n",
      "Lab dtypes:\n",
      " patientunitstayid      int32\n",
      "labname               object\n",
      "labresult            float32\n",
      "dtype: object\n",
      "Diagnosis dtypes:\n",
      " patientunitstayid       int32\n",
      "diagnosisstring        object\n",
      "icd9code             category\n",
      "dtype: object\n",
      "Medication dtypes:\n",
      " patientunitstayid      int32\n",
      "drugname              object\n",
      "dosage               float32\n",
      "routeadmin            object\n",
      "drugstartoffset        int32\n",
      "drugstopoffset         int32\n",
      "dtype: object\n",
      "Treatment dtypes:\n",
      " patientunitstayid       int32\n",
      "treatmentstring      category\n",
      "dtype: object\n"
     ]
    }
   ],
   "source": [
    "# AdmissionDX: No changes required as types seem correct\n",
    "admissionDX['patientunitstayid'] = admissionDX['patientunitstayid'].astype(\"int32\")\n",
    "\n",
    "# Patient\n",
    "# Convert 'age' to numeric, setting invalid parsing as NaN, and use Int32 for nullable integer\n",
    "patient['age'] = pd.to_numeric(patient['age'], errors='coerce').astype(\"float32\")\n",
    "patient['patientunitstayid'] = patient['patientunitstayid'].astype(\"int32\")\n",
    "\n",
    "# Lab\n",
    "lab['patientunitstayid'] = lab['patientunitstayid'].astype(\"int32\")\n",
    "lab['labresult'] = lab['labresult'].astype(\"float32\")  # Use float32 for less memory usage\n",
    "\n",
    "# Diagnosis\n",
    "diagnosis['patientunitstayid'] = diagnosis['patientunitstayid'].astype(\"int32\")\n",
    "diagnosis['icd9code'] = diagnosis['icd9code'].astype(\"category\")  # Use category for 'icd9code'\n",
    "\n",
    "\"\"\"\n",
    "Medication\n",
    "medication['dosage'] = pd.to_numeric(medication['dosage'], errors='coerce').astype(\"float32\")\n",
    "medication['patientunitstayid'] = medication['patientunitstayid'].astype(\"int32\")\n",
    "medication['drugstartoffset'] = medication['drugstartoffset'].astype(\"int32\")\n",
    "medication['drugstopoffset'] = medication['drugstopoffset'].astype(\"int32\")\n",
    "\"\"\"\n",
    "\n",
    "# Treatment\n",
    "treatment['patientunitstayid'] = treatment['patientunitstayid'].astype(\"int32\")\n",
    "treatment['treatmentstring'] = treatment['treatmentstring'].astype(\"category\")  # Use category for 'treatmentstring'\n",
    "\n",
    "# Convert object columns to 'category' type where applicable to save memory\n",
    "patient['gender'] = patient['gender'].astype(\"category\")\n",
    "patient['ethnicity'] = patient['ethnicity'].astype(\"category\")\n",
    "patient['hospitaladmitsource'] = patient['hospitaladmitsource'].astype(\"category\")\n",
    "patient['hospitaldischargelocation'] = patient['hospitaldischargelocation'].astype(\"category\")\n",
    "patient['hospitaldischargestatus'] = patient['hospitaldischargestatus'].astype(\"category\")\n",
    "\n",
    "# Confirm data types after conversion\n",
    "print(\"AdmissionDX dtypes:\\n\", admissionDX.dtypes)\n",
    "print(\"Patient dtypes:\\n\", patient.dtypes)\n",
    "print(\"Lab dtypes:\\n\", lab.dtypes)\n",
    "print(\"Diagnosis dtypes:\\n\", diagnosis.dtypes)\n",
    "#print(\"Medication dtypes:\\n\", medication.dtypes)\n",
    "print(\"Treatment dtypes:\\n\", treatment.dtypes)\n"
   ]
  },
  {
   "cell_type": "code",
   "execution_count": 1,
   "metadata": {},
   "outputs": [],
   "source": [
    "#print(merged_df.memory_usage(deep=True).sum() / (1024**2), \"MB\")\n",
    "#print(medication.memory_usage(deep=True).sum() / (1024**2), \"MB\")\n"
   ]
  },
  {
   "cell_type": "code",
   "execution_count": 8,
   "metadata": {},
   "outputs": [],
   "source": [
    "#merging\n",
    "# Start with the base dataframe (AdmissionDX)\n",
    "merged_df = admissionDX\n"
   ]
  },
  {
   "cell_type": "code",
   "execution_count": 9,
   "metadata": {},
   "outputs": [],
   "source": [
    "\n",
    "# Merge with Patient data\n",
    "merged_df = merged_df.merge(patient, on=\"patientunitstayid\", how=\"left\")\n"
   ]
  },
  {
   "cell_type": "code",
   "execution_count": 10,
   "metadata": {},
   "outputs": [],
   "source": [
    "\n",
    "# Merge with Lab data\n",
    "merged_df = merged_df.merge(lab, on=\"patientunitstayid\", how=\"left\")\n"
   ]
  },
  {
   "cell_type": "code",
   "execution_count": 11,
   "metadata": {},
   "outputs": [],
   "source": [
    "\n",
    "# Merge with Diagnosis data\n",
    "merged_df = merged_df.merge(diagnosis, on=\"patientunitstayid\", how=\"left\")\n"
   ]
  },
  {
   "cell_type": "code",
   "execution_count": 12,
   "metadata": {},
   "outputs": [],
   "source": [
    "# Merge with Treatment data\n",
    "merged_df = merged_df.merge(treatment, on=\"patientunitstayid\", how=\"left\")"
   ]
  },
  {
   "cell_type": "code",
   "execution_count": 13,
   "metadata": {},
   "outputs": [],
   "source": [
    "\n",
    "# Random sampling to reduce dataset size\n",
    "subset = merged_df.sample(n=1000, random_state=42)\n",
    "\n"
   ]
  },
  {
   "cell_type": "code",
   "execution_count": 14,
   "metadata": {},
   "outputs": [],
   "source": [
    "# Save the smaller dataset\n",
    "subset.to_csv('preprocessed.csv', index=False)\n"
   ]
  },
  {
   "cell_type": "code",
   "execution_count": 15,
   "metadata": {},
   "outputs": [
    {
     "name": "stdout",
     "output_type": "stream",
     "text": [
      "<class 'pandas.core.frame.DataFrame'>\n",
      "Index: 1000 entries, 10343652 to 2537717\n",
      "Data columns (total 14 columns):\n",
      " #   Column                     Non-Null Count  Dtype   \n",
      "---  ------                     --------------  -----   \n",
      " 0   patientunitstayid          1000 non-null   int32   \n",
      " 1   admitdxname                1000 non-null   object  \n",
      " 2   admitdxtext                1000 non-null   object  \n",
      " 3   age                        976 non-null    float32 \n",
      " 4   gender                     1000 non-null   category\n",
      " 5   ethnicity                  997 non-null    category\n",
      " 6   hospitaladmitsource        748 non-null    category\n",
      " 7   hospitaldischargelocation  979 non-null    category\n",
      " 8   hospitaldischargestatus    979 non-null    category\n",
      " 9   labname                    1000 non-null   object  \n",
      " 10  labresult                  997 non-null    float32 \n",
      " 11  diagnosisstring            998 non-null    object  \n",
      " 12  icd9code                   836 non-null    category\n",
      " 13  treatmentstring            991 non-null    category\n",
      "dtypes: category(7), float32(2), int32(1), object(4)\n",
      "memory usage: 110.9+ KB\n",
      "None\n"
     ]
    }
   ],
   "source": [
    "# Check the final dataframe structure\n",
    "print(subset.info())\n"
   ]
  }
 ],
 "metadata": {
  "kernelspec": {
   "display_name": "Python 3",
   "language": "python",
   "name": "python3"
  },
  "language_info": {
   "codemirror_mode": {
    "name": "ipython",
    "version": 3
   },
   "file_extension": ".py",
   "mimetype": "text/x-python",
   "name": "python",
   "nbconvert_exporter": "python",
   "pygments_lexer": "ipython3",
   "version": "3.11.0"
  }
 },
 "nbformat": 4,
 "nbformat_minor": 2
}
