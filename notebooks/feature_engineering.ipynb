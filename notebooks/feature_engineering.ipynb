{
 "cells": [
  {
   "cell_type": "code",
   "execution_count": 1,
   "metadata": {},
   "outputs": [],
   "source": [
    "#libraries\n",
    "import pandas as pd\n",
    "import numpy as np\n",
    "from sklearn.preprocessing import LabelEncoder\n"
   ]
  },
  {
   "cell_type": "code",
   "execution_count": 2,
   "metadata": {},
   "outputs": [],
   "source": [
    "\n",
    "# Load the preprocessed csv file as the dataframe\n",
    "df = pd.read_csv(\"preprocessed.csv\") \n"
   ]
  },
  {
   "cell_type": "code",
   "execution_count": 3,
   "metadata": {},
   "outputs": [
    {
     "name": "stderr",
     "output_type": "stream",
     "text": [
      "C:\\Users\\Natasha\\AppData\\Local\\Temp\\ipykernel_8016\\1516143461.py:3: FutureWarning: A value is trying to be set on a copy of a DataFrame or Series through chained assignment using an inplace method.\n",
      "The behavior will change in pandas 3.0. This inplace method will never work because the intermediate object on which we are setting values always behaves as a copy.\n",
      "\n",
      "For example, when doing 'df[col].method(value, inplace=True)', try using 'df.method({col: value}, inplace=True)' or df[col] = df[col].method(value) instead, to perform the operation inplace on the original object.\n",
      "\n",
      "\n",
      "  df['age'].fillna(df['age'].mean(), inplace=True)\n",
      "C:\\Users\\Natasha\\AppData\\Local\\Temp\\ipykernel_8016\\1516143461.py:4: FutureWarning: A value is trying to be set on a copy of a DataFrame or Series through chained assignment using an inplace method.\n",
      "The behavior will change in pandas 3.0. This inplace method will never work because the intermediate object on which we are setting values always behaves as a copy.\n",
      "\n",
      "For example, when doing 'df[col].method(value, inplace=True)', try using 'df.method({col: value}, inplace=True)' or df[col] = df[col].method(value) instead, to perform the operation inplace on the original object.\n",
      "\n",
      "\n",
      "  df['labresult'].fillna(df['labresult'].mean(), inplace=True)\n",
      "C:\\Users\\Natasha\\AppData\\Local\\Temp\\ipykernel_8016\\1516143461.py:10: FutureWarning: A value is trying to be set on a copy of a DataFrame or Series through chained assignment using an inplace method.\n",
      "The behavior will change in pandas 3.0. This inplace method will never work because the intermediate object on which we are setting values always behaves as a copy.\n",
      "\n",
      "For example, when doing 'df[col].method(value, inplace=True)', try using 'df.method({col: value}, inplace=True)' or df[col] = df[col].method(value) instead, to perform the operation inplace on the original object.\n",
      "\n",
      "\n",
      "  df[col].fillna(df[col].mode()[0], inplace=True)\n"
     ]
    }
   ],
   "source": [
    "\n",
    "# 1. Handle Missing Values\n",
    "# Fill missing values for numeric columns with the mean\n",
    "df['age'].fillna(df['age'].mean(), inplace=True)\n",
    "df['labresult'].fillna(df['labresult'].mean(), inplace=True)\n",
    "\n",
    "# Fill missing values for categorical columns with the mode\n",
    "categorical_cols = ['ethnicity', 'hospitaladmitsource', 'hospitaldischargelocation', \n",
    "                    'hospitaldischargestatus', 'icd9code', 'treatmentstring']\n",
    "for col in categorical_cols:\n",
    "    df[col].fillna(df[col].mode()[0], inplace=True)\n"
   ]
  },
  {
   "cell_type": "code",
   "execution_count": 4,
   "metadata": {},
   "outputs": [],
   "source": [
    "\n",
    "# 2. Create New Features\n",
    "# (a) Age Groups:Groups patients into categories based on their age\n",
    "df['age_group'] = pd.cut(df['age'], bins=[0, 18, 40, 65, 100], labels=['Child', 'Young Adult', 'Adult', 'Senior'])\n",
    "\n",
    "# (b) Length of Diagnosis Description\n",
    "df['admitdxtext_length'] = df['admitdxtext'].apply(len)\n",
    "\n",
    "# (c) Binary Gender Encoding : Groups patients into categories based on their age\n",
    "df['is_female'] = (df['gender'] == 'Female').astype(int)\n",
    "\n",
    "# (d) Combine Diagnostic Information\n",
    "df['diagnosis_combined'] = df['admitdxname'] + \" | \" + df['diagnosisstring']\n",
    "\n",
    "# (e) Flag for Critical Discharge Status : Converts the hospitaldischargestatus column into a binary feature, where 1 represents a critical discharge (e.g., deceased, hospice, or severely ill).\n",
    "#Why it’s useful: It simplifies discharge outcomes, making it easier to model predictions related to patient severity at discharge.\n",
    "df['critical_discharge'] = df['hospitaldischargestatus'].apply(lambda x: 1 if x in ['Expired', 'Critical'] else 0)\n"
   ]
  },
  {
   "cell_type": "code",
   "execution_count": 5,
   "metadata": {},
   "outputs": [],
   "source": [
    "\n",
    "# 3. Encode Categorical Features\n",
    "# Use Label Encoding for categorical variables\n",
    "label_encoders = {}\n",
    "for col in categorical_cols:\n",
    "    le = LabelEncoder()\n",
    "    df[col] = le.fit_transform(df[col])\n",
    "    label_encoders[col] = le  # Save the encoder for inverse transformations if needed\n",
    "\n",
    "\n",
    "#Converts categorical features into numerical representations (either via one-hot encoding or integer encoding)."
   ]
  },
  {
   "cell_type": "code",
   "execution_count": 6,
   "metadata": {},
   "outputs": [],
   "source": [
    "\n",
    "# 4. Drop Irrelevant Columns\n",
    "# Drop columns that might not be useful for analysis or modeling\n",
    "df.drop(['gender', 'admitdxtext'], axis=1, inplace=True)\n"
   ]
  },
  {
   "cell_type": "code",
   "execution_count": 7,
   "metadata": {},
   "outputs": [
    {
     "name": "stdout",
     "output_type": "stream",
     "text": [
      "<class 'pandas.core.frame.DataFrame'>\n",
      "RangeIndex: 1000 entries, 0 to 999\n",
      "Data columns (total 17 columns):\n",
      " #   Column                     Non-Null Count  Dtype   \n",
      "---  ------                     --------------  -----   \n",
      " 0   patientunitstayid          1000 non-null   int64   \n",
      " 1   admitdxname                1000 non-null   object  \n",
      " 2   age                        1000 non-null   float64 \n",
      " 3   ethnicity                  1000 non-null   int32   \n",
      " 4   hospitaladmitsource        1000 non-null   int32   \n",
      " 5   hospitaldischargelocation  1000 non-null   int32   \n",
      " 6   hospitaldischargestatus    1000 non-null   int32   \n",
      " 7   labname                    1000 non-null   object  \n",
      " 8   labresult                  1000 non-null   float64 \n",
      " 9   diagnosisstring            998 non-null    object  \n",
      " 10  icd9code                   1000 non-null   int32   \n",
      " 11  treatmentstring            1000 non-null   int32   \n",
      " 12  age_group                  1000 non-null   category\n",
      " 13  admitdxtext_length         1000 non-null   int64   \n",
      " 14  is_female                  1000 non-null   int32   \n",
      " 15  diagnosis_combined         998 non-null    object  \n",
      " 16  critical_discharge         1000 non-null   int64   \n",
      "dtypes: category(1), float64(2), int32(7), int64(3), object(4)\n",
      "memory usage: 99.0+ KB\n",
      "None\n",
      "   patientunitstayid        admitdxname   age  ethnicity  hospitaladmitsource  \\\n",
      "0             490809   Pneumonia, other  71.0          3                    2   \n",
      "1            2552038  Sepsis, pulmonary  73.0          2                    2   \n",
      "2            2621948     Cardiovascular  74.0          2                    2   \n",
      "3             490809        Respiratory  71.0          3                    2   \n",
      "4             490809   Pneumonia, other  71.0          3                    2   \n",
      "\n",
      "   hospitaldischargelocation  hospitaldischargestatus          labname  \\\n",
      "0                          1                        0              Hct   \n",
      "1                          0                        1       WBC x 1000   \n",
      "2                          0                        1        potassium   \n",
      "3                          1                        0  bedside glucose   \n",
      "4                          1                        0             PEEP   \n",
      "\n",
      "   labresult                                    diagnosisstring  icd9code  \\\n",
      "0       36.4          cardiovascular|shock / hypotension|sepsis         5   \n",
      "1       13.2  hematology|bleeding and red blood cell disorde...       126   \n",
      "2        3.7          oncology|chest tumors|primary lung cancer         7   \n",
      "3      138.0       renal|disorder of kidney|acute renal failure       126   \n",
      "4        5.0  cardiovascular|shock / hypotension|sepsis|seps...         3   \n",
      "\n",
      "   treatmentstring age_group  admitdxtext_length  is_female  \\\n",
      "0              172    Senior                  16          0   \n",
      "1              126    Senior                  17          1   \n",
      "2               88    Senior                  14          0   \n",
      "3              100    Senior                  11          0   \n",
      "4              102    Senior                  16          0   \n",
      "\n",
      "                                  diagnosis_combined  critical_discharge  \n",
      "0  Pneumonia, other | cardiovascular|shock / hypo...                   0  \n",
      "1  Sepsis, pulmonary | hematology|bleeding and re...                   1  \n",
      "2  Cardiovascular | oncology|chest tumors|primary...                   1  \n",
      "3  Respiratory | renal|disorder of kidney|acute r...                   0  \n",
      "4  Pneumonia, other | cardiovascular|shock / hypo...                   0  \n"
     ]
    }
   ],
   "source": [
    "\n",
    "# Display the final DataFrame\n",
    "print(df.info())\n",
    "print(df.head())\n"
   ]
  },
  {
   "cell_type": "code",
   "execution_count": 8,
   "metadata": {},
   "outputs": [
    {
     "name": "stderr",
     "output_type": "stream",
     "text": [
      "C:\\Users\\Natasha\\AppData\\Local\\Temp\\ipykernel_8016\\1957423824.py:1: FutureWarning: A value is trying to be set on a copy of a DataFrame or Series through chained assignment using an inplace method.\n",
      "The behavior will change in pandas 3.0. This inplace method will never work because the intermediate object on which we are setting values always behaves as a copy.\n",
      "\n",
      "For example, when doing 'df[col].method(value, inplace=True)', try using 'df.method({col: value}, inplace=True)' or df[col] = df[col].method(value) instead, to perform the operation inplace on the original object.\n",
      "\n",
      "\n",
      "  df['diagnosisstring'].fillna('Unknown', inplace=True)\n",
      "C:\\Users\\Natasha\\AppData\\Local\\Temp\\ipykernel_8016\\1957423824.py:2: FutureWarning: A value is trying to be set on a copy of a DataFrame or Series through chained assignment using an inplace method.\n",
      "The behavior will change in pandas 3.0. This inplace method will never work because the intermediate object on which we are setting values always behaves as a copy.\n",
      "\n",
      "For example, when doing 'df[col].method(value, inplace=True)', try using 'df.method({col: value}, inplace=True)' or df[col] = df[col].method(value) instead, to perform the operation inplace on the original object.\n",
      "\n",
      "\n",
      "  df['diagnosis_combined'].fillna('Unknown', inplace=True)\n"
     ]
    }
   ],
   "source": [
    "#fill Na with UNKNOWN\n",
    "df['diagnosisstring'].fillna('Unknown', inplace=True)\n",
    "df['diagnosis_combined'].fillna('Unknown', inplace=True)\n"
   ]
  },
  {
   "cell_type": "code",
   "execution_count": 9,
   "metadata": {},
   "outputs": [],
   "source": [
    "df['age_group'] = df['age_group'].cat.codes\n"
   ]
  },
  {
   "cell_type": "code",
   "execution_count": 10,
   "metadata": {},
   "outputs": [],
   "source": [
    "#dropping the original cols and combined to avoid adding unnecessary noise to the model\n",
    "df.drop(['admitdxname', 'labname', 'diagnosis_combined'], axis=1, inplace=True)\n"
   ]
  },
  {
   "cell_type": "code",
   "execution_count": 11,
   "metadata": {},
   "outputs": [
    {
     "name": "stdout",
     "output_type": "stream",
     "text": [
      "critical_discharge\n",
      "0    0.783\n",
      "1    0.217\n",
      "Name: proportion, dtype: float64\n"
     ]
    }
   ],
   "source": [
    "print(df['critical_discharge'].value_counts(normalize=True))\n"
   ]
  },
  {
   "cell_type": "markdown",
   "metadata": {},
   "source": [
    "variable is imbalanced, with 78.3% of the data in class 0 and only 21.7% in class 1.\n",
    "Some models have parameters to handle class imbalance by assigning higher weights to the minority class."
   ]
  },
  {
   "cell_type": "code",
   "execution_count": 12,
   "metadata": {},
   "outputs": [],
   "source": [
    "df.to_csv(\"feature_engineered.csv\",index=False)"
   ]
  }
 ],
 "metadata": {
  "kernelspec": {
   "display_name": "Python 3",
   "language": "python",
   "name": "python3"
  },
  "language_info": {
   "codemirror_mode": {
    "name": "ipython",
    "version": 3
   },
   "file_extension": ".py",
   "mimetype": "text/x-python",
   "name": "python",
   "nbconvert_exporter": "python",
   "pygments_lexer": "ipython3",
   "version": "3.11.0"
  }
 },
 "nbformat": 4,
 "nbformat_minor": 2
}
